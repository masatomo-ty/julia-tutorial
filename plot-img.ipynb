{
 "cells": [
  {
   "cell_type": "code",
   "execution_count": 16,
   "metadata": {},
   "outputs": [
    {
     "ename": "LoadError",
     "evalue": "No applicable_loaders found for SVG",
     "output_type": "error",
     "traceback": [
      "No applicable_loaders found for SVG",
      "",
      "Stacktrace:",
      " [1] error(::String) at ./error.jl:33",
      " [2] applicable_loaders(::Union{Type{var\"#s32\"} where var\"#s32\"<:FileIO.DataFormat, FileIO.Formatted}) at /Users/masatomo/.julia/packages/FileIO/wN5rD/src/loadsave.jl:44",
      " [3] load(::FileIO.Formatted; options::Base.Iterators.Pairs{Union{},Union{},Tuple{},NamedTuple{(),Tuple{}}}) at /Users/masatomo/.julia/packages/FileIO/wN5rD/src/loadsave.jl:191",
      " [4] load at /Users/masatomo/.julia/packages/FileIO/wN5rD/src/loadsave.jl:184 [inlined]",
      " [5] #load#14 at /Users/masatomo/.julia/packages/FileIO/wN5rD/src/loadsave.jl:133 [inlined]",
      " [6] load(::String) at /Users/masatomo/.julia/packages/FileIO/wN5rD/src/loadsave.jl:133",
      " [7] top-level scope at In[16]:8",
      " [8] include_string(::Function, ::Module, ::String, ::String) at ./loading.jl:1091"
     ]
    }
   ],
   "source": [
    "using Pkg\n",
    "using Plots\n",
    "using TestImages, Images, ImageView\n",
    "\n",
    "# plot some data\n",
    "plot([cumsum(rand(500) .- 0.5), cumsum(rand(500) .- 0.5)])\n",
    "\n",
    "img = load(\"plots.svg\")\n",
    "imshow(img)"
   ]
  },
  {
   "cell_type": "code",
   "execution_count": 10,
   "metadata": {},
   "outputs": [
    {
     "data": {
      "text/plain": [
       "make_H1d (generic function with 1 method)"
      ]
     },
     "execution_count": 10,
     "metadata": {},
     "output_type": "execute_result"
    }
   ],
   "source": [
    "function make_H1d(N, a)\n",
    "    mat_H = zeros(Float64, N, N)\n",
    "    for i in 1:N\n",
    "        for dx in -1:1\n",
    "            j = i + dx\n",
    "            v = 0.0\n",
    "            if dx == 0\n",
    "                v = 2/a^2\n",
    "            elseif dx == 1\n",
    "                v = -1/a^2\n",
    "            elseif dx == -1\n",
    "                v = -1/a^2\n",
    "            end\n",
    "            if 1 <= j <= N\n",
    "                mat_H[i, j] = v\n",
    "            end\n",
    "        end\n",
    "    end\n",
    "    return mat_H\n",
    "end"
   ]
  },
  {
   "cell_type": "code",
   "execution_count": 9,
   "metadata": {},
   "outputs": [
    {
     "ename": "LoadError",
     "evalue": "syntax: \"\\\" is not a unary operator",
     "output_type": "error",
     "traceback": [
      "syntax: \"\\\" is not a unary operator",
      "",
      "Stacktrace:",
      " [1] top-level scope at In[9]:6",
      " [2] include_string(::Function, ::Module, ::String, ::String) at ./loading.jl:1091"
     ]
    }
   ],
   "source": [
    "using Plots\n",
    "using LinearAlgebra\n",
    "N = 1000\n",
    "a = 0.01\n",
    "mat_H = make_H1d(N, a)\n",
    "\\Omega\n",
    "\n",
    "\n",
    "\n"
   ]
  }
 ],
 "metadata": {
  "kernelspec": {
   "display_name": "Julia 1.5.1",
   "language": "julia",
   "name": "julia-1.5"
  },
  "language_info": {
   "file_extension": ".jl",
   "mimetype": "application/julia",
   "name": "julia",
   "version": "1.5.1"
  }
 },
 "nbformat": 4,
 "nbformat_minor": 4
}
